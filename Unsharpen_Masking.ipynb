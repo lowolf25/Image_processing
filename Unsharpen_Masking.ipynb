{
  "nbformat": 4,
  "nbformat_minor": 0,
  "metadata": {
    "colab": {
      "private_outputs": true,
      "provenance": [],
      "authorship_tag": "ABX9TyN/b8WhtKoKHH+cF1GPHpxm",
      "include_colab_link": true
    },
    "kernelspec": {
      "name": "python3",
      "display_name": "Python 3"
    },
    "language_info": {
      "name": "python"
    }
  },
  "cells": [
    {
      "cell_type": "markdown",
      "metadata": {
        "id": "view-in-github",
        "colab_type": "text"
      },
      "source": [
        "<a href=\"https://colab.research.google.com/github/lowolf25/Image_processing/blob/main/Unsharpen_Masking.ipynb\" target=\"_parent\"><img src=\"https://colab.research.google.com/assets/colab-badge.svg\" alt=\"Open In Colab\"/></a>"
      ]
    },
    {
      "cell_type": "markdown",
      "source": [
        "## Getting the blur version of the Image\n"
      ],
      "metadata": {
        "id": "GezRpTSzcDsl"
      }
    },
    {
      "cell_type": "code",
      "execution_count": null,
      "metadata": {
        "id": "VM-C2HhkZCQD"
      },
      "outputs": [],
      "source": [
        "import cv2\n",
        "from google.colab.patches import cv2_imshow\n",
        "\n",
        "# Load the image\n",
        "input_image_path = '/content/Image.jpeg'\n",
        "image = cv2.imread(input_image_path)\n",
        "\n",
        "# Function to apply Gaussian Blur with adjustable parameters\n",
        "def apply_gaussian_blur(image, kernel_size=(5, 5), sigma=0):\n",
        "    return cv2.GaussianBlur(image, kernel_size, sigma)\n",
        "\n",
        "# Adjusting the blur effect\n",
        "# By Changing the kernel size and sigma value\n",
        "blur_image = apply_gaussian_blur(image, (5, 5), 3)\n",
        "\n",
        "\n",
        "# Save and display the image\n",
        "\n",
        "cv2.imwrite('blur_image_553.jpg', blur_image)\n",
        "\n",
        "cv2_imshow(blur_image)\n"
      ]
    },
    {
      "cell_type": "markdown",
      "source": [
        "## Apply Unsharpen masking Filter to solve blur issue"
      ],
      "metadata": {
        "id": "ma3-Oj5TcfzT"
      }
    },
    {
      "cell_type": "code",
      "source": [
        "import cv2\n",
        "import numpy as np\n",
        "from google.colab.patches import cv2_imshow\n",
        "\n",
        "# Applying Unsharp Masking Filter\n",
        "\n",
        "def unsharp_mask(image, kernel_size=(5, 5), sigma=1.0, strength=1.5):\n",
        "    # Apply Gaussian blur to the image\n",
        "    blurred_image = cv2.GaussianBlur(image, kernel_size, sigma)\n",
        "    # Calculate the detailed image by subtracting the blurred image from the original\n",
        "    detail_image = cv2.subtract(image, blurred_image)\n",
        "    # Calculate the sharpened image by adding the detail back to the original\n",
        "    #sharpened_image = detail_image + image\n",
        "    sharpened_image = cv2.addWeighted(image, 1.0, detail_image, strength, 0)\n",
        "    return sharpened_image\n",
        "\n",
        "# Adapting the unsharp masking filter to an RGB image\n",
        "def apply_filter_to_rgb(image, filter_function, blur_size=(5, 5), sigma=1.0, strength=1.5):\n",
        "    # Split the image into its RGB channels\n",
        "    channels = cv2.split(image)\n",
        "    # Apply the filter to each channel\n",
        "    filtered_channels = [filter_function(channel, blur_size, sigma, strength) for channel in channels]\n",
        "    # Merge the filtered channels back together\n",
        "    filtered_image = cv2.merge(filtered_channels)\n",
        "    return filtered_image\n",
        "\n",
        "# Load the original image (RGB)\n",
        "input_image_path = '/content/blur_image_553.jpg'\n",
        "image = cv2.imread(input_image_path)\n",
        "\n",
        "# Apply the unsharp masking filter to the RGB image with specified parameters\n",
        "sharpened_image = apply_filter_to_rgb(image, unsharp_mask, blur_size=(15, 15), sigma=10, strength=1.5)\n",
        "\n",
        "# Display the original and sharpened images\n",
        "print('Blur image')\n",
        "cv2_imshow(image)\n",
        "print('Sharpened image')\n",
        "cv2_imshow(sharpened_image)\n",
        "\n",
        "# Save the sharpened image\n",
        "# cv2.imwrite('blurred_image.jpg', image)\n",
        "# cv2.imwrite('sharpened_image.jpg', sharpened_image)"
      ],
      "metadata": {
        "id": "f2TtgFFhZLBQ"
      },
      "execution_count": null,
      "outputs": []
    },
    {
      "cell_type": "code",
      "source": [],
      "metadata": {
        "id": "YbuENVidaNlr"
      },
      "execution_count": null,
      "outputs": []
    }
  ]
}