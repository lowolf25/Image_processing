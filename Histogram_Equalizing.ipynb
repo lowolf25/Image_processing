{
  "nbformat": 4,
  "nbformat_minor": 0,
  "metadata": {
    "colab": {
      "private_outputs": true,
      "provenance": [],
      "authorship_tag": "ABX9TyNxiMuvbPMNDmZuSdLbr9Wj",
      "include_colab_link": true
    },
    "kernelspec": {
      "name": "python3",
      "display_name": "Python 3"
    },
    "language_info": {
      "name": "python"
    }
  },
  "cells": [
    {
      "cell_type": "markdown",
      "metadata": {
        "id": "view-in-github",
        "colab_type": "text"
      },
      "source": [
        "<a href=\"https://colab.research.google.com/github/lowolf25/Image_processing/blob/main/Histogram_Equalizing.ipynb\" target=\"_parent\"><img src=\"https://colab.research.google.com/assets/colab-badge.svg\" alt=\"Open In Colab\"/></a>"
      ]
    },
    {
      "cell_type": "code",
      "source": [
        "#Import libraries\n",
        "\n",
        "import cv2\n",
        "import numpy as np\n",
        "from google.colab.patches import cv2_imshow\n",
        "\n",
        "# Load the image\n",
        "image_path = '/content/Image.jpeg'\n",
        "image = cv2.imread(image_path, cv2.IMREAD_GRAYSCALE)\n",
        "cv2_imshow(image)\n",
        "cv2.imwrite(\"original_gray_image.jpg\", image)"
      ],
      "metadata": {
        "id": "BPa0pWX-pUoE"
      },
      "execution_count": null,
      "outputs": []
    },
    {
      "cell_type": "code",
      "execution_count": null,
      "metadata": {
        "id": "Jf5RvxKiib_A"
      },
      "outputs": [],
      "source": [
        "#Import libraries\n",
        "\n",
        "import cv2\n",
        "import numpy as np\n",
        "from google.colab.patches import cv2_imshow\n",
        "\n",
        "\n",
        "# Load the image\n",
        "image_path = '/content/LowContrast_Image.jpg'\n",
        "image = cv2.imread(image_path, cv2.IMREAD_GRAYSCALE)\n",
        "\n",
        "# Apply Histogram Equalizer\n",
        "equalized_image = cv2.equalizeHist(image)\n",
        "\n",
        "print(\"Original Image\")\n",
        "cv2_imshow(image)\n",
        "print(\"Equalized Image\")\n",
        "cv2_imshow(equalized_image)\n",
        "\n",
        "cv2.imwrite(\"Lowcontrast_gray_image.jpg\", image)"
      ]
    },
    {
      "cell_type": "code",
      "source": [
        "import cv2\n",
        "import numpy as np\n",
        "from google.colab.patches import cv2_imshow\n",
        "\n",
        "# Load the image\n",
        "image_path = '/content/LowContrast_Image.jpg'\n",
        "image = cv2.imread(image_path)\n",
        "\n",
        "# Convert the image to YUV color space\n",
        "image_yuv = cv2.cvtColor(image, cv2.COLOR_BGR2YUV)\n",
        "\n",
        "# Equalize the histogram of the Y channel (luminance)\n",
        "image_yuv[:,:,0] = cv2.equalizeHist(image_yuv[:,:,0])\n",
        "\n",
        "# Convert the image back to RGB\n",
        "equalized_image = cv2.cvtColor(image_yuv, cv2.COLOR_YUV2BGR)\n",
        "\n",
        "# Display the original and equalized images\n",
        "print(\"Original Image\")\n",
        "cv2_imshow(image)\n",
        "print(\"Equalized Image\")\n",
        "cv2_imshow(equalized_image)\n",
        "\n",
        "# Save the equalized image\n",
        "# cv2.imwrite(\"equalized_Histogram_image.jpg\", equalized_image)\n"
      ],
      "metadata": {
        "id": "tw37ic5fpuFT"
      },
      "execution_count": null,
      "outputs": []
    },
    {
      "cell_type": "code",
      "source": [
        "import cv2\n",
        "import numpy as np\n",
        "from google.colab.patches import cv2_imshow\n",
        "\n",
        "# Load the image\n",
        "image_path = '/content/LowContrast_Image.jpg'\n",
        "image = cv2.imread(image_path)\n",
        "\n",
        "# Convert the image to HSI color space\n",
        "image_hsi = cv2.cvtColor(image, cv2.COLOR_BGR2HSV)\n",
        "\n",
        "# Equalize the histogram of the Intensity (I) channel\n",
        "image_hsi[:,:,2] = cv2.equalizeHist(image_hsi[:,:,2])\n",
        "\n",
        "# Convert the image back to RGB\n",
        "equalized_image = cv2.cvtColor(image_hsi, cv2.COLOR_HSV2BGR)\n",
        "\n",
        "# Display the original and equalized images\n",
        "print(\"Original Image\")\n",
        "cv2_imshow(image)\n",
        "print(\"Equalized Image\")\n",
        "cv2_imshow(equalized_image)\n",
        "\n",
        "# Save the equalized image\n",
        "cv2.imwrite(\"equalized_Histogram_hsi_image.jpg\", equalized_image)\n"
      ],
      "metadata": {
        "id": "-mmbE60AqpzE"
      },
      "execution_count": null,
      "outputs": []
    },
    {
      "cell_type": "code",
      "source": [
        "import cv2\n",
        "import numpy as np\n",
        "from google.colab.patches import cv2_imshow\n",
        "\n",
        "# Load the image\n",
        "image_path = '/content/LowContrast_Image.jpg'\n",
        "image = cv2.imread(image_path)\n",
        "\n",
        "# Convert the image to CMY color space\n",
        "image_cmy = 255 - image\n",
        "\n",
        "# Convert the image to grayscale\n",
        "image_gray = cv2.cvtColor(image_cmy, cv2.COLOR_BGR2GRAY)\n",
        "\n",
        "# Equalize the histogram of the grayscale image\n",
        "equalized_gray = cv2.equalizeHist(image_gray)\n",
        "\n",
        "# Merge the equalized grayscale image with the inverted CMY channels\n",
        "equalized_image = cv2.merge((255 - equalized_gray, 255 - image_cmy[:,:,1], 255 - image_cmy[:,:,2]))\n",
        "\n",
        "# Display the original and equalized images\n",
        "print(\"Original Image\")\n",
        "cv2_imshow(image)\n",
        "print(\"Equalized Image\")\n",
        "cv2_imshow(equalized_image)\n",
        "\n",
        "# Save the equalized image\n",
        "cv2.imwrite(\"equalized_Histogram_cmy_image.jpg\", equalized_image)\n"
      ],
      "metadata": {
        "id": "ok0V5C_HrRXQ"
      },
      "execution_count": null,
      "outputs": []
    },
    {
      "cell_type": "code",
      "source": [],
      "metadata": {
        "id": "c6kG0vHXu7HD"
      },
      "execution_count": null,
      "outputs": []
    }
  ]
}